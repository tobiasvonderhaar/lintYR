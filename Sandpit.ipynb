{
 "cells": [
  {
   "cell_type": "code",
   "execution_count": 1,
   "id": "dd289446-2157-4c82-86ca-c8bbeffff0f8",
   "metadata": {
    "tags": []
   },
   "outputs": [],
   "source": [
    "import matplotlib.pyplot as plt\n",
    "import matplotlib.cm as cm\n",
    "import numpy as np\n",
    "from utils import find_orf, translate"
   ]
  },
  {
   "cell_type": "code",
   "execution_count": 2,
   "id": "ac7b6de2-a363-4a41-a583-9e511a8e617b",
   "metadata": {
    "tags": []
   },
   "outputs": [],
   "source": [
    "seq = 'GAAATAAGAGAGAAAAGAAGAGTAAGAAGAAATATAACAGCCACCATGAAATGGGTTACTTTCATTAGCCTGCTGTTCCTGTTCAGCAGCGCTTACAGCGTTTTCACTCTGGAAGACTTCGTTGGAGACTGGAGACAAACTGCTGGATACAACCTGGACCAAGTTCTGGAACAAGGAGGAGTTAGCAGCCTGTTCCAAAACCTGGGAGTTAGCGTTACTCCTATTCAAAGAATTGTTCTGAGCGGAGAAAACGGACTGAAAATTGACATTCACGTTATTATTCCTTACGAAGGACTGAGCGGAGACCAAATGGGACAAATTGAAAAAATTTTCAAAGTTGTTTACCCTGTTGACGACCACCACTTCAAAGTTATTCTGCACTACGGAACTCTGGTTATTGACGGAGTTACTCCTAACATGATTGACTACTTCGGAAGACCTTACGAAGGAATTGCTGTTTTCGACGGAAAAAAAATTACTGTTACTGGAACTCTGTGGAACGGAAACAAAATTATTGACGAAAGACTGATTAACCCTGACGGAAGCCTGCTGTTCAGAGTTACTATTAACGGAGTTACTGGATGGAGACTGTGCGAAAGAATTCTGGCTTAGTGAGCTCGCTTTCTTGCTGTCCAATTTCTATTAAAGGTTCCTTTGTTCCCTAAGTCCAACTACTAAACTGGGGGATATTATGAAGGGCCTTGAGCATCTGGATTCTGCCTAATAAAAAACATTTATTTTCATTGC'"
   ]
  },
  {
   "cell_type": "code",
   "execution_count": null,
   "id": "fcaa76d6-210b-4a0a-bf66-94bcd07aeab1",
   "metadata": {},
   "outputs": [],
   "source": []
  },
  {
   "cell_type": "code",
   "execution_count": 132,
   "id": "a19dbfad-b726-4052-9c2b-5431a49cb5c0",
   "metadata": {
    "tags": []
   },
   "outputs": [],
   "source": [
    "from CodOpY.misc import codon_choices\n",
    "import numpy as np\n",
    "from utils import makeCodedict\n",
    "\n",
    "par = 'decoding.time'\n",
    "func = min\n",
    "\n",
    "#find the orf coordinates\n",
    "orf_coords = find_orf(seq)\n",
    "orf_seq = seq[orf_coords[0]:orf_coords[1]].replace('T','U')\n",
    "codon_seq = [orf_seq[n:n+3] for n in range(0,len(orf_seq),3)]\n",
    "aa_seq = ''.join([translate(codon) for codon in codon_seq])\n",
    "\n",
    "#calculate the relative adaptedness for all codons based on the \n",
    "#parameter of preference\n",
    "aminoacids = set(makeCodedict().values())\n",
    "optimalities={}\n",
    "for aa in aminoacids:\n",
    "    this_set = codon_choices(aa)\n",
    "    if this_set.shape[0] == 1:\n",
    "        optimalities[this_set['codon'].values[0]] = 1\n",
    "    else:\n",
    "        try:\n",
    "            min_val = min(this_set[par].values)\n",
    "            max_val = max(this_set[par].values)\n",
    "            if func == max:\n",
    "                for row in this_set.iterrows():\n",
    "                    this_val = row[1][par]\n",
    "                    optimalities[row[1]['codon']] = (this_val - min_val) / (max_val - min_val)\n",
    "            else:\n",
    "                for row in this_set.iterrows():\n",
    "                    this_val = row[1][par]\n",
    "                    optimalities[row[1]['codon']] = 1 - (this_val - min_val) / (max_val - min_val)            \n",
    "        except:\n",
    "            for row in this_set.iterrows():\n",
    "                optimalities[row[1]['codon']] = 1 / shape(this_set)[0]\n",
    "opt_val = np.mean([optimalities[codon] for codon in codon_seq if not np.isnan(optimalities[codon])])"
   ]
  },
  {
   "cell_type": "code",
   "execution_count": 134,
   "id": "6d10a278-d697-4b22-a7dd-7c051367dc92",
   "metadata": {},
   "outputs": [
    {
     "data": {
      "text/plain": [
       "0.7814503148382479"
      ]
     },
     "execution_count": 134,
     "metadata": {},
     "output_type": "execute_result"
    }
   ],
   "source": [
    "opt_val"
   ]
  },
  {
   "cell_type": "code",
   "execution_count": 1,
   "id": "18849112-5abb-4399-a5f4-bd690f4514a5",
   "metadata": {},
   "outputs": [],
   "source": [
    "from CodOpY.misc import codon_choices"
   ]
  },
  {
   "cell_type": "code",
   "execution_count": 2,
   "id": "04142c9d-1803-4d88-8016-f2667f0f804d",
   "metadata": {
    "tags": []
   },
   "outputs": [
    {
     "data": {
      "text/plain": [
       "\u001b[0;31mSignature:\u001b[0m \u001b[0mcodon_choices\u001b[0m\u001b[0;34m(\u001b[0m\u001b[0maa\u001b[0m\u001b[0;34m,\u001b[0m \u001b[0mref_table\u001b[0m\u001b[0;34m=\u001b[0m\u001b[0;34m'Scer'\u001b[0m\u001b[0;34m,\u001b[0m \u001b[0mparameter\u001b[0m\u001b[0;34m=\u001b[0m\u001b[0;34m'decoding.time'\u001b[0m\u001b[0;34m)\u001b[0m\u001b[0;34m\u001b[0m\u001b[0;34m\u001b[0m\u001b[0m\n",
       "\u001b[0;31mDocstring:\u001b[0m\n",
       "Reports the codon choices for a specified amino acid.\n",
       "\n",
       "Parameters:\n",
       "===========\n",
       "aa : str\n",
       "    An amino acid in one or three letter code.\n",
       "ref_table : str\n",
       "    A valid name for a parameterset such as 'Scer'.\n",
       "parameter : str\n",
       "    The name of the parameter to be displayed alongside the codons, which must\n",
       "    correspond to one of the columns of the specified parset.\n",
       "\n",
       "Returns:\n",
       "========\n",
       "    pandas.core.frame.DataFrame\n",
       "\u001b[0;31mFile:\u001b[0m      ~/anaconda3/lib/python3.11/site-packages/CodOpY/misc.py\n",
       "\u001b[0;31mType:\u001b[0m      function"
      ]
     },
     "metadata": {},
     "output_type": "display_data"
    }
   ],
   "source": [
    "?codon_choices"
   ]
  },
  {
   "cell_type": "code",
   "execution_count": null,
   "id": "7bc918f8-735b-48ee-91f8-50ffac8e8eb3",
   "metadata": {
    "tags": []
   },
   "outputs": [],
   "source": []
  },
  {
   "cell_type": "code",
   "execution_count": null,
   "id": "e32c8c72-1b5f-41a9-a1bf-de4aa6ea31dd",
   "metadata": {
    "tags": []
   },
   "outputs": [],
   "source": []
  },
  {
   "cell_type": "code",
   "execution_count": null,
   "id": "6e063886-fa85-48f8-bf69-411998f7f5a3",
   "metadata": {
    "tags": []
   },
   "outputs": [],
   "source": []
  },
  {
   "cell_type": "code",
   "execution_count": null,
   "id": "7305b687-e0a9-4a8d-87da-cb83b1ac88ae",
   "metadata": {
    "tags": []
   },
   "outputs": [],
   "source": []
  },
  {
   "cell_type": "code",
   "execution_count": null,
   "id": "c9aeec6f-45b8-4d17-bf80-71f536aa0a78",
   "metadata": {
    "tags": []
   },
   "outputs": [],
   "source": []
  },
  {
   "cell_type": "code",
   "execution_count": null,
   "id": "2f9ee88c-23fe-4d9a-99fe-72cebd05ef3f",
   "metadata": {
    "tags": []
   },
   "outputs": [],
   "source": []
  },
  {
   "cell_type": "code",
   "execution_count": null,
   "id": "3e128c84-b0b6-47e1-9044-9a270bd74688",
   "metadata": {
    "tags": []
   },
   "outputs": [],
   "source": []
  },
  {
   "cell_type": "code",
   "execution_count": null,
   "id": "b5afb040-6904-4927-97b8-cddae6175c9d",
   "metadata": {},
   "outputs": [],
   "source": []
  }
 ],
 "metadata": {
  "kernelspec": {
   "display_name": "Python 3 (ipykernel)",
   "language": "python",
   "name": "python3"
  },
  "language_info": {
   "codemirror_mode": {
    "name": "ipython",
    "version": 3
   },
   "file_extension": ".py",
   "mimetype": "text/x-python",
   "name": "python",
   "nbconvert_exporter": "python",
   "pygments_lexer": "ipython3",
   "version": "3.11.7"
  }
 },
 "nbformat": 4,
 "nbformat_minor": 5
}
