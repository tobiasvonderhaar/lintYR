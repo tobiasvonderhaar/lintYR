{
 "cells": [
  {
   "cell_type": "code",
   "execution_count": 1,
   "id": "3d217dac-71dd-4b2f-8c92-068cbd1d1fa9",
   "metadata": {
    "tags": []
   },
   "outputs": [],
   "source": [
    "import matplotlib.pyplot as plt"
   ]
  },
  {
   "cell_type": "code",
   "execution_count": 2,
   "id": "3e3bac12-dae6-4681-b906-7eaf4ffda38f",
   "metadata": {
    "tags": []
   },
   "outputs": [],
   "source": [
    "seq = 'ATGGAAAATATAGTACTACTACTAGCGATAGTATCGCTAGTAAAATCGGATCAAATATGTATAGGTTATCATGCGAATAATTCGACGGAACAAGTAGATACGATAATGGAAAAAAATGTAACGGTAACGCATGCGCAAGATATACTAGAAAAAACGCATAATGGTAAACTATGTGATCTAAATGGTGTAAAACCGCTAATACTAAAAGATTGTTCGGTAGCGGGTTGGCTACTAGGTAATCCGATGTGTGATGAATTTATACGTGTACCGGAATGGTCGTATATAGTAGAACGTGCGAATCCGGCGAATGATCTATGTTATCCGGGTTCGCTAAATGATTATGAAGAACTAAAACATATGCTATCGCGTATAAATCATTTTGAAAAAATACAAATAATACCGAAATCGTCGTGGCCGAATCATGAAACGTCGCTAGGTGTATCGGCGGCGTGTCCGTATCAAGGTGCGCCGTCGTTTTTTCGTAATGTAGTATGGCTAATAAAAAAAAATGATGCGTATCCGACGATAAAAATATCGTATAATAATACGAATCGTGAAGATCTACTAATACTATGGGGTATACATCATTCGAATAATGCGGAAGAACAAACGAATCTATATAAAAATCCGATAACGTATATATCGGTAGGTACGTCGACGCTAAATCAACGTCTAGCGCCGAAAATAGCGACGCGTTCGCAAGTAAATGGTCAACGTGGTCGTATGGATTTTTTTTGGACGATACTAAAACCGGATGATGCGATACATTTTGAATCGAATGGTAATTTTATAGCGCCGGAATATGCGTATAAAATAGTAAAAAAAGGTGATTCGACGATAATGAAATCGGGTGTAGAATATGGTCATTGTAATACGAAATGTCAAACGCCGGTAGGTGCGATAAATTCGTCGATGCCGTTTCATAATATACATCCGCTAACGATAGGTGAATGTCCGAAATATGTAAAATCGAATAAACTAGTACTAGCGACGGGTCTACGTAATTCGCCGCTACGTGAAAAACGTCGTAAACGTGGTCTATTTGGTGCGATAGCGGGTTTTATAGAAGGTGGTTGGCAAGGTATGGTAGATGGTTGGTATGGTTATCATCATTCGAATGAACAAGGTTCGGGTTATGCGGCGGATAAAGAATCGACGCAAAAAGCGATAGATGGTGTAACGAATAAAGTAAATTCGATAATAGATAAAATGAATACGCAATTTGAAGCGGTAGGTCGTGAATTTAATAATCTAGAACGTCGTATAGAAAATCTAAATAAAAAAATGGAAGATGGTTTTCTAGATGTATGGACGTATAATGCGGAACTACTAGTACTAATGGAAAATGAACGTACGCTAGATTTTCATGATTCGAATGTAAAAAATCTATATGATAAAGTACGTCTACAACTACGTGATAATGCGAAAGAACTAGGTAATGGTTGTTTTGAATTTTATCATAAATGTGATAATGAATGTATGGAATCGGTACGTAATGGTACGTATGATTATCCGCAATATTCGGAAGAAGCGCGTCTAAAACGTGAAGAAATATCGGGTGTAAAACTAGAATCGGTAGGTACGTATCAAATACTATCGATATATTCGACGGCGGCGTCGTCGCTAGCGCTAGCGATAATGATGGCGGGTCTATCGCTATGGATGTGTTCGAATGGTTCGCTACAATGTCGTATATGTATATAA'"
   ]
  },
  {
   "cell_type": "code",
   "execution_count": 2,
   "id": "3f2579b0-1d54-4bef-88cf-facec55bb34a",
   "metadata": {
    "tags": []
   },
   "outputs": [
    {
     "ename": "ModuleNotFoundError",
     "evalue": "No module named 'seqview'",
     "output_type": "error",
     "traceback": [
      "\u001b[0;31m---------------------------------------------------------------------------\u001b[0m",
      "\u001b[0;31mModuleNotFoundError\u001b[0m                       Traceback (most recent call last)",
      "Cell \u001b[0;32mIn[2], line 1\u001b[0m\n\u001b[0;32m----> 1\u001b[0m \u001b[38;5;28;01mfrom\u001b[39;00m \u001b[38;5;21;01mseqview\u001b[39;00m \u001b[38;5;28;01mimport\u001b[39;00m basicView\n\u001b[1;32m      2\u001b[0m fig,ax \u001b[38;5;241m=\u001b[39m basicView(seq)\n\u001b[1;32m      3\u001b[0m plt\u001b[38;5;241m.\u001b[39mshow()\n",
      "\u001b[0;31mModuleNotFoundError\u001b[0m: No module named 'seqview'"
     ]
    }
   ],
   "source": [
    "from seqview import basicView\n",
    "fig,ax = basicView(seq)\n",
    "plt.show()"
   ]
  },
  {
   "cell_type": "code",
   "execution_count": 3,
   "id": "6000eb05-a26f-43e2-8528-49a2ae8aa0a9",
   "metadata": {
    "tags": []
   },
   "outputs": [
    {
     "ename": "ModuleNotFoundError",
     "evalue": "No module named 'utils'",
     "output_type": "error",
     "traceback": [
      "\u001b[0;31m---------------------------------------------------------------------------\u001b[0m",
      "\u001b[0;31mModuleNotFoundError\u001b[0m                       Traceback (most recent call last)",
      "Cell \u001b[0;32mIn[3], line 2\u001b[0m\n\u001b[1;32m      1\u001b[0m \u001b[38;5;28;01mfrom\u001b[39;00m \u001b[38;5;21;01mcodon_comp\u001b[39;00m \u001b[38;5;28;01mimport\u001b[39;00m plotCodonCounts\n\u001b[0;32m----> 2\u001b[0m fig,ax \u001b[38;5;241m=\u001b[39m plotCodonCounts(seq)\n\u001b[1;32m      3\u001b[0m plt\u001b[38;5;241m.\u001b[39mshow()\n",
      "File \u001b[0;32m~/lintYR/codon_comp.py:6\u001b[0m, in \u001b[0;36mplotCodonCounts\u001b[0;34m(seq, genCode, mode)\u001b[0m\n\u001b[1;32m      3\u001b[0m \u001b[38;5;28;01mif\u001b[39;00m mode \u001b[38;5;129;01mnot\u001b[39;00m \u001b[38;5;129;01min\u001b[39;00m [\u001b[38;5;124m'\u001b[39m\u001b[38;5;124mabs\u001b[39m\u001b[38;5;124m'\u001b[39m,\u001b[38;5;124m'\u001b[39m\u001b[38;5;124mrel\u001b[39m\u001b[38;5;124m'\u001b[39m]:\n\u001b[1;32m      4\u001b[0m     \u001b[38;5;28;01mraise\u001b[39;00m \u001b[38;5;167;01mValueError\u001b[39;00m(\u001b[38;5;124m'\u001b[39m\u001b[38;5;124mmode must be either abs or rel\u001b[39m\u001b[38;5;124m'\u001b[39m)\n\u001b[0;32m----> 6\u001b[0m \u001b[38;5;28;01mfrom\u001b[39;00m \u001b[38;5;21;01mutils\u001b[39;00m \u001b[38;5;28;01mimport\u001b[39;00m makeReverseCodedict, countCodons, find_orf\n\u001b[1;32m      7\u001b[0m \u001b[38;5;28;01mimport\u001b[39;00m \u001b[38;5;21;01mmatplotlib\u001b[39;00m\u001b[38;5;21;01m.\u001b[39;00m\u001b[38;5;21;01mpyplot\u001b[39;00m \u001b[38;5;28;01mas\u001b[39;00m \u001b[38;5;21;01mplt\u001b[39;00m\n\u001b[1;32m      8\u001b[0m \u001b[38;5;28;01mfrom\u001b[39;00m \u001b[38;5;21;01mmatplotlib\u001b[39;00m\u001b[38;5;21;01m.\u001b[39;00m\u001b[38;5;21;01mpatches\u001b[39;00m \u001b[38;5;28;01mimport\u001b[39;00m Rectangle\n",
      "\u001b[0;31mModuleNotFoundError\u001b[0m: No module named 'utils'"
     ]
    }
   ],
   "source": [
    "from codon_comp import plotCodonCounts\n",
    "fig,ax = plotCodonCounts(seq)\n",
    "plt.show()"
   ]
  },
  {
   "cell_type": "code",
   "execution_count": 4,
   "id": "646685fc-52a6-4a79-8c69-3c2583efae12",
   "metadata": {
    "tags": []
   },
   "outputs": [
    {
     "ename": "ModuleNotFoundError",
     "evalue": "No module named 'utils'",
     "output_type": "error",
     "traceback": [
      "\u001b[0;31m---------------------------------------------------------------------------\u001b[0m",
      "\u001b[0;31mModuleNotFoundError\u001b[0m                       Traceback (most recent call last)",
      "Cell \u001b[0;32mIn[4], line 2\u001b[0m\n\u001b[1;32m      1\u001b[0m \u001b[38;5;28;01mfrom\u001b[39;00m \u001b[38;5;21;01mframeshift\u001b[39;00m \u001b[38;5;28;01mimport\u001b[39;00m mapFrameshifts\n\u001b[0;32m----> 2\u001b[0m fig,ax \u001b[38;5;241m=\u001b[39m mapFrameshifts(seq)\n\u001b[1;32m      3\u001b[0m plt\u001b[38;5;241m.\u001b[39mshow()\n",
      "File \u001b[0;32m~/lintYR/frameshift.py:4\u001b[0m, in \u001b[0;36mmapFrameshifts\u001b[0;34m(seq, plot)\u001b[0m\n\u001b[1;32m      1\u001b[0m \u001b[38;5;28;01mdef\u001b[39;00m \u001b[38;5;21mmapFrameshifts\u001b[39m(seq, plot\u001b[38;5;241m=\u001b[39m\u001b[38;5;28;01mTrue\u001b[39;00m):\n\u001b[1;32m      3\u001b[0m     \u001b[38;5;28;01mimport\u001b[39;00m \u001b[38;5;21;01mmatplotlib\u001b[39;00m\u001b[38;5;21;01m.\u001b[39;00m\u001b[38;5;21;01mpyplot\u001b[39;00m \u001b[38;5;28;01mas\u001b[39;00m \u001b[38;5;21;01mplt\u001b[39;00m\n\u001b[0;32m----> 4\u001b[0m     \u001b[38;5;28;01mfrom\u001b[39;00m \u001b[38;5;21;01mutils\u001b[39;00m \u001b[38;5;28;01mimport\u001b[39;00m find_orf\n\u001b[1;32m      6\u001b[0m     orf_coords \u001b[38;5;241m=\u001b[39m find_orf(seq)\n\u001b[1;32m      7\u001b[0m     orf_seq \u001b[38;5;241m=\u001b[39m seq[orf_coords[\u001b[38;5;241m0\u001b[39m]:orf_coords[\u001b[38;5;241m1\u001b[39m]]\n",
      "\u001b[0;31mModuleNotFoundError\u001b[0m: No module named 'utils'"
     ]
    }
   ],
   "source": [
    "from frameshift import mapFrameshifts\n",
    "fig,ax = mapFrameshifts(seq)\n",
    "plt.show()"
   ]
  },
  {
   "cell_type": "code",
   "execution_count": 5,
   "id": "886da474-0643-4665-92f2-0ec9bf73d174",
   "metadata": {
    "tags": []
   },
   "outputs": [
    {
     "ename": "ModuleNotFoundError",
     "evalue": "No module named 'utils'",
     "output_type": "error",
     "traceback": [
      "\u001b[0;31m---------------------------------------------------------------------------\u001b[0m",
      "\u001b[0;31mModuleNotFoundError\u001b[0m                       Traceback (most recent call last)",
      "Cell \u001b[0;32mIn[5], line 2\u001b[0m\n\u001b[1;32m      1\u001b[0m \u001b[38;5;28;01mfrom\u001b[39;00m \u001b[38;5;21;01mterminators\u001b[39;00m \u001b[38;5;28;01mimport\u001b[39;00m plotTypeIITranscriptionTerminators\n\u001b[0;32m----> 2\u001b[0m fig,ax \u001b[38;5;241m=\u001b[39m plotTypeIITranscriptionTerminators(seq)\n\u001b[1;32m      3\u001b[0m plt\u001b[38;5;241m.\u001b[39mshow()\n",
      "File \u001b[0;32m~/lintYR/terminators.py:26\u001b[0m, in \u001b[0;36mplotTypeIITranscriptionTerminators\u001b[0;34m(seq)\u001b[0m\n\u001b[1;32m     24\u001b[0m \u001b[38;5;28;01mimport\u001b[39;00m \u001b[38;5;21;01mpandas\u001b[39;00m \u001b[38;5;28;01mas\u001b[39;00m \u001b[38;5;21;01mpd\u001b[39;00m\n\u001b[1;32m     25\u001b[0m \u001b[38;5;28;01mfrom\u001b[39;00m \u001b[38;5;21;01mterminators\u001b[39;00m \u001b[38;5;28;01mimport\u001b[39;00m map_typeII_transcription_terminators\n\u001b[0;32m---> 26\u001b[0m \u001b[38;5;28;01mfrom\u001b[39;00m \u001b[38;5;21;01mutils\u001b[39;00m \u001b[38;5;28;01mimport\u001b[39;00m find_orf, context_score\n\u001b[1;32m     28\u001b[0m terminators \u001b[38;5;241m=\u001b[39m map_typeII_transcription_terminators(seq)\u001b[38;5;241m.\u001b[39msort_values(by\u001b[38;5;241m=\u001b[39m\u001b[38;5;124m'\u001b[39m\u001b[38;5;124mFrom\u001b[39m\u001b[38;5;124m'\u001b[39m)\n\u001b[1;32m     30\u001b[0m usecmap\u001b[38;5;241m=\u001b[39mcm\u001b[38;5;241m.\u001b[39mcoolwarm\n",
      "\u001b[0;31mModuleNotFoundError\u001b[0m: No module named 'utils'"
     ]
    }
   ],
   "source": [
    "from terminators import plotTypeIITranscriptionTerminators\n",
    "fig,ax = plotTypeIITranscriptionTerminators(seq)\n",
    "plt.show()"
   ]
  },
  {
   "cell_type": "code",
   "execution_count": 7,
   "id": "7ae1a698-ade3-4db4-ba08-8526889d9e1d",
   "metadata": {
    "tags": []
   },
   "outputs": [
    {
     "data": {
      "image/png": "[encoded data removed]",
      "text/plain": [
       "<Figure size 800x250 with 1 Axes>"
      ]
     },
     "metadata": {},
     "output_type": "display_data"
    }
   ],
   "source": [
    "from terminators import plotStemLoops\n",
    "fig,ax = plotStemLoops(seq)\n",
    "plt.show()"
   ]
  },
  {
   "cell_type": "code",
   "execution_count": 8,
   "id": "3957f29b-9673-4365-a9e4-e8cd93e5e12a",
   "metadata": {
    "tags": []
   },
   "outputs": [
    {
     "data": {
      "image/png": "[encoded data removed]",
      "text/plain": [
       "<Figure size 800x250 with 1 Axes>"
      ]
     },
     "metadata": {},
     "output_type": "display_data"
    }
   ],
   "source": [
    "from repeats import reportNtRepeats\n",
    "fig,ax = reportNtRepeats(seq)\n",
    "plt.show()"
   ]
  },
  {
   "cell_type": "code",
   "execution_count": null,
   "id": "1bbe0105-c254-4bd4-8c8b-d220153dc303",
   "metadata": {
    "tags": []
   },
   "outputs": [],
   "source": []
  },
  {
   "cell_type": "code",
   "execution_count": null,
   "id": "a781b6a0-2c72-4854-88c6-daa898660851",
   "metadata": {
    "tags": []
   },
   "outputs": [],
   "source": []
  },
  {
   "cell_type": "code",
   "execution_count": null,
   "id": "2527f0d1-8dac-4d5d-a94e-9ba3057c0fe2",
   "metadata": {},
   "outputs": [],
   "source": []
  },
  {
   "cell_type": "code",
   "execution_count": null,
   "id": "57e1a45f-7f43-4d00-8dc7-94972e79d59f",
   "metadata": {},
   "outputs": [],
   "source": []
  },
  {
   "cell_type": "code",
   "execution_count": null,
   "id": "f843d123-5585-4584-9ed8-89f4c8ce3be2",
   "metadata": {},
   "outputs": [],
   "source": []
  },
  {
   "cell_type": "code",
   "execution_count": null,
   "id": "482186e5-6f5b-413d-b01e-7635f6f61167",
   "metadata": {},
   "outputs": [],
   "source": []
  }
 ],
 "metadata": {
  "kernelspec": {
   "display_name": "Python 3 (ipykernel)",
   "language": "python",
   "name": "python3"
  },
  "language_info": {
   "codemirror_mode": {
    "name": "ipython",
    "version": 3
   },
   "file_extension": ".py",
   "mimetype": "text/x-python",
   "name": "python",
   "nbconvert_exporter": "python",
   "pygments_lexer": "ipython3",
   "version": "3.11.7"
  }
 },
 "nbformat": 4,
 "nbformat_minor": 5
}
