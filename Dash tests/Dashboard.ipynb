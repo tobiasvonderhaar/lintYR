{
 "cells": [
  {
   "cell_type": "code",
   "execution_count": 1,
   "id": "b6cc18d0-5722-44d8-af34-a5364cb69c1e",
   "metadata": {},
   "outputs": [],
   "source": [
    "#define sequence\n",
    "\n",
    "seq = 'GAAATAAGAGAGAAAAGAAGAGTAAGAAGAAATATAACAGCCACCATGAAATGGGTTACTTTCATTAGCCTGCTGTTCCTGTTCAGCAGCGCTTACAGCGTTTTCACTCTGGAAGACTTTGTTGGAGACTGGAGACAAACTGCTGGATACAACCTGGACCAAGTTCTGGAACAAGGAGGAGTTAGCAGCCTGTTTCAAAACCTGGGAGTTAGCGTTACTCCTATTCAAAGAATTGTTCTGAGCGGAGAAAACGGACTGAAAATTGACATTCACGTTATTATTCCTTACGAAGGACTGAGCGGAGACCAAATGGGACAAATTGAAAAAATTTTCAAAGTTGTTTACCCTGTTGACGACCACCACTTCAAAGTTATTCTGCACTACGGAACTCTGGTTATTGACGGAGTTACTCCTAACATGATTGACTACTTCGGAAGACCTTACGAAGGAATTGCTGTTTTCGACGGAAAAAAAATTACTGTTACTGGAACTCTGTGGAACGGAAACAAAATTATTGACGAAAGACTGATTAACCCTGACGGAAGCCTGCTGTTCAGAGTTACTATTAACGGAGTTACTGGATGGAGACTGTGCGAAAGAATTCTGGCTTAGTGAGCTCGCTTTCTTGCTGTCCAATTTCTATTAAAGGTTCCTTTGTTCCCTAAGTCCAACTACTAAACTGGGGGATATTATGAAGGGCCTTGAGCATCTGGATTCTGCCTAATAAAAAACATTTATTTTCATTGC'"
   ]
  },
  {
   "cell_type": "code",
   "execution_count": 2,
   "id": "0d02a72e-07f6-40f1-907b-9eecf73c3cda",
   "metadata": {},
   "outputs": [],
   "source": [
    "#generate analyses\n",
    "import matplotlib.pyplot as plt\n",
    "from src.seqview import basicView\n",
    "\n",
    "fig,ax = basicView(seq)\n",
    "plt.savefig('Assets/Sequence.png')\n",
    "plt.close()\n",
    "\n",
    "\n",
    "from src.codon_comp import plotCodonCounts\n",
    "\n",
    "fig,ax = plotCodonCounts(seq)\n",
    "plt.savefig('Assets/CodonCounts.png')\n",
    "plt.close()\n",
    "\n",
    "from src.frameshift import mapFrameshifts\n",
    "\n",
    "fig,ax = mapFrameshifts(seq)\n",
    "plt.savefig('Assets/FS.png')\n",
    "plt.close()\n",
    "\n",
    "pil_sequence = Image.open('Assets/Sequence.png')\n",
    "pil_ccounts = Image.open('Assets/CodonCounts.png')\n",
    "pil_FS = Image.open('Assets/FS.png'"
   ]
  },
  {
   "cell_type": "code",
   "execution_count": 8,
   "id": "d87b7bdf-5798-4998-86b9-a462cf54f10a",
   "metadata": {},
   "outputs": [],
   "source": [
    "from dash import Dash, html, dcc\n",
    "import dash_bootstrap_components as dbc\n",
    "from PIL import Image\n",
    "\n",
    "app=Dash(external_stylesheets=[dbc.themes.BOOTSTRAP])\n",
    "app.title = \"lintYR - an RNA lint tool\"\n",
    "app.layout = dbc.Container\\\n",
    "([\n",
    "    dbc.Row(\n",
    "        dbc.Col([html.H1(app.title),html.Hr(),],width=12)\n",
    "    ),\n",
    "    dbc.Row([\n",
    "        dbc.Col([html.Img(src=pil_sequence,style={'width':'120%',})],width=6),\n",
    "        dbc.Col([\n",
    "            html.Img(src=pil_FS,style={'width':'120%'}),\n",
    "            html.Img(src=pil_ccounts,style={'width':'120%'}),\n",
    "    ])]),\n",
    "])\n",
    "#app.run(jupyter_mode='tab')"
   ]
  },
  {
   "cell_type": "code",
   "execution_count": 20,
   "id": "0ad5434c-e32e-4e32-b848-211976e218db",
   "metadata": {},
   "outputs": [
    {
     "name": "stdout",
     "output_type": "stream",
     "text": [
      "Dash app running on http://127.0.0.1:8050/\n"
     ]
    },
    {
     "data": {
      "application/javascript": [
       "window.open('http://127.0.0.1:8050/')"
      ],
      "text/plain": [
       "<IPython.core.display.Javascript object>"
      ]
     },
     "metadata": {},
     "output_type": "display_data"
    }
   ],
   "source": [
    "from dash import Dash, html, dcc\n",
    "import dash_bootstrap_components as dbc\n",
    "from PIL import Image\n",
    "\n",
    "app=Dash(external_stylesheets=[dbc.themes.BOOTSTRAP])\n",
    "app.title = \"lintYR - an RNA lint tool\"\n",
    "\n",
    "app.layout = dbc.Container\\\n",
    "([\n",
    "    dbc.Row([\n",
    "        dbc.Col(['Title Row'])\n",
    "    ]),\n",
    "    dbc.Row([\n",
    "        dbc.Col([\n",
    "            html.Img(src=Image.open('Assets/Sequence.png'))\n",
    "        ],width=6),\n",
    "        dbc.Col([\n",
    "            dbc.Row([\n",
    "                dbc.Col(['Disp 1','Disp 2','Disp 3','Disp 4','Disp 5'])\n",
    "            ]),\n",
    "                dcc.Tabs(id='Display_Tabs',value='Codon Usage',children=[\n",
    "                    dcc.Tab(label='Codon Usage', value='Codon Usage'),\n",
    "                    dcc.Tab(label='Frameshifting', value='FS'),\n",
    "                    dcc.Tab(label='Type 1 Terminators', value='Type 1 Term'),\n",
    "                    dcc.Tab(label='Type 2 Terminators', value='Type 2 Term'),\n",
    "                    dcc.Tab(label='Repeats', value='Repeats'),\n",
    "             ]), \n",
    "            html.Div(id='tabs-content-example-graph')\n",
    "        ]),\n",
    "    ]),\n",
    "])\n",
    "app.run(jupyter_mode='tab')"
   ]
  },
  {
   "cell_type": "code",
   "execution_count": null,
   "id": "0432d389-91f7-4c06-9fe1-aa4bb26f30e9",
   "metadata": {},
   "outputs": [],
   "source": []
  }
 ],
 "metadata": {
  "kernelspec": {
   "display_name": "Python 3 (ipykernel)",
   "language": "python",
   "name": "python3"
  },
  "language_info": {
   "codemirror_mode": {
    "name": "ipython",
    "version": 3
   },
   "file_extension": ".py",
   "mimetype": "text/x-python",
   "name": "python",
   "nbconvert_exporter": "python",
   "pygments_lexer": "ipython3",
   "version": "3.11.7"
  }
 },
 "nbformat": 4,
 "nbformat_minor": 5
}
