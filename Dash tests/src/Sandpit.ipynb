{
 "cells": [
  {
   "cell_type": "code",
   "execution_count": 1,
   "id": "bd0d759b-dc1a-4d91-a818-ea6f1e9592fe",
   "metadata": {},
   "outputs": [],
   "source": [
    "import matplotlib.pyplot as plt\n",
    "from utils import find_orf, translate"
   ]
  },
  {
   "cell_type": "code",
   "execution_count": 2,
   "id": "48f2542a-28ea-4d5c-b622-0288742a516e",
   "metadata": {},
   "outputs": [],
   "source": [
    "seq = 'GAAATAAGAGAGAAAAGAAGAGTAAGAAGAAATATAACAGCCACCATGGTGTTCACCCTGGAGGACTTCGTCGGGGACTGGCGCCAGACGGCTGGCTACAACCTGGACCAGGTCCTGGAACAGGGCGGAGTGTCGTCTCTCTTCCAGAACCTGGGCGTTAGTGTGACTCCCATCCAGCGCATCGTGCTGAGCGGGGAGAATGGGCTGAAGATTGACATCCACGTCATCATACCTTACGAGGGCCTCAGCGGAGACCAGATGGGCCAAATTGAGAAGATCTTCAAGGTGGTGTACCCAGTGGATGACCACCACTTTAAAGTAATCCTGCATTACGGCACACTAGTGATTGATGGTGTGACTCCGAATATGATCGATTACTTCGGTAGGCCCTATGAGGGCATCGCCGTGTTCGACGGCAAGAAGATCACCGTAACCGGCACCCTTTGGAACGGCAACAAGATCATCGACGAGCGTCTCATTAACCCTGACGGCTCCCTGCTGTTTCGCGTGACCATCAACGGTGTCACCGGTTGGCGCCTGTGCGAGCGGATTTTGGCCTGATAAGCTCGCTTTCTTGCTGTCCAATTTCTATTAAAGGTTCCTTTGTTCCCTAAGTCCAACTACTAAACTGGGGGATATTATGAAGGGCCTTGAGCATCTGGATTCTGCCTAATAAAAAACATTTATTTTCATTGC '"
   ]
  },
  {
   "cell_type": "code",
   "execution_count": 5,
   "id": "595de710-399f-48c3-b3df-c4c9eee98222",
   "metadata": {},
   "outputs": [],
   "source": [
    "#map all possible stops\n",
    "def map_stop_opportunities(aa_seq):\n",
    "    from utils import translate\n",
    "    stopdipeps = ['LI','LM','LK','LT','LS','LR','LV','LE','LA','LT','LG',\n",
    "              'II','IM','IK','IT','IS','IR','IV','IE','IA','IT','IG',\n",
    "              'VI','VM','VK','VT','VS','VR','VV','VE','VA','VT','VG']\n",
    "    seqdipeps = [aa_seq[n:n+2] for n in range(len(aa_seq)-1)]\n",
    "    [p for p,v in enumerate(seqdipeps) if v in stopdipeps]\n",
    "    return [idx for idx,val in enumerate(seqdipeps) if val in stopdipeps]"
   ]
  },
  {
   "cell_type": "code",
   "execution_count": 19,
   "id": "49a0a96f-af84-48e9-b03a-281427eaa51c",
   "metadata": {},
   "outputs": [],
   "source": [
    "orf_coords = find_orf(seq)\n",
    "orf = seq[orf_coords[0]:orf_coords[1]]\n",
    "plus_one_orf = seq[orf_coords[0]+1:orf_coords[1]-2]\n",
    "plus_one_codons = [plus_one_orf[n:n+3] for n in range(0,len(plus_one_orf),3)]\n",
    "plus_one_stops = [idx for idx,val in enumerate(plus_one_codons) if val in ['TAA','TAG']]\n",
    "plus_one_stops_nt = [(x*3+1)+orf_coords[0] for x in plus_one_stops]\n",
    "plus_one_opps = map_stop_opportunities(translate(orf))\n",
    "plus_one_opps_nt = [(x*3+1)+orf_coords[0] for x in plus_one_opps]"
   ]
  },
  {
   "cell_type": "code",
   "execution_count": 30,
   "id": "5bba8f87-9d51-432d-b268-945fef7a569a",
   "metadata": {},
   "outputs": [
    {
     "data": {
      "image/png": "[encoded data removed]",
      "text/plain": [
       "<Figure size 800x200 with 1 Axes>"
      ]
     },
     "metadata": {},
     "output_type": "display_data"
    }
   ],
   "source": [
    "y1 = [1.4 for x in plus_one_stops]\n",
    "y2 = [1.2 for x in plus_one_opps]\n",
    "fig,ax = plt.subplots(figsize=(8,2))\n",
    "ax.scatter(plus_one_stops_nt,y1,c='green',marker='v')\n",
    "ax.scatter(plus_one_opps_nt,y2,c='lightgrey',marker='|')\n",
    "texty=1.5\n",
    "if len(plus_one_stops)==0:\n",
    "    ax.text(len(seq)/2,1.5,'No +1 stops detecteed.',color='red',\n",
    "             fontweight='bold',horizontalalignment='center')\n",
    "else:\n",
    "    for idx,site in enumerate(plus_one_stops_nt):\n",
    "        if idx > 0:\n",
    "            if ((site-plus_one_stops_nt[idx-1])<0.1*len(seq)) and (texty<2.2):\n",
    "                texty+=0.15\n",
    "            else:\n",
    "                texty=1.5\n",
    "        ax.text(site,texty,plus_one_stops_nt[idx],horizontalalignment='center',fontsize=8)\n",
    "ax.plot((0, len(seq)),(1,1),linewidth=2,color='grey')\n",
    "ax.plot(find_orf(seq),(1,1),linewidth=5,color='black')\n",
    "ax.text(0,0.75,'0',horizontalalignment='center',fontsize=7)\n",
    "ax.text(len(seq),0.75,str(len(seq)),horizontalalignment='center',fontsize=7)\n",
    "ax.set_ylim((0.5,2.5))\n",
    "ax.axis('off')\n",
    "plt.show()"
   ]
  },
  {
   "cell_type": "code",
   "execution_count": 31,
   "id": "a7e083e6-106c-43f8-90e3-ac2f779ea4bb",
   "metadata": {},
   "outputs": [
    {
     "data": {
      "text/plain": [
       "[319, 340, 430]"
      ]
     },
     "execution_count": 31,
     "metadata": {},
     "output_type": "execute_result"
    }
   ],
   "source": [
    "plus_one_stops_nt"
   ]
  },
  {
   "cell_type": "code",
   "execution_count": 34,
   "id": "08817300-e0b1-442b-9be1-00e262fc440a",
   "metadata": {},
   "outputs": [
    {
     "data": {
      "text/plain": [
       "'TAA'"
      ]
     },
     "execution_count": 34,
     "metadata": {},
     "output_type": "execute_result"
    }
   ],
   "source": [
    "seq[430:433]"
   ]
  },
  {
   "cell_type": "code",
   "execution_count": 97,
   "id": "a968b5c4-8508-4b3a-b341-17e24cf72d53",
   "metadata": {},
   "outputs": [
    {
     "data": {
      "text/plain": [
       "\u001b[0;31mSignature:\u001b[0m \u001b[0mtranslate\u001b[0m\u001b[0;34m(\u001b[0m\u001b[0mdnaSeq\u001b[0m\u001b[0;34m,\u001b[0m \u001b[0mgenCode\u001b[0m\u001b[0;34m=\u001b[0m\u001b[0;36m1\u001b[0m\u001b[0;34m)\u001b[0m\u001b[0;34m\u001b[0m\u001b[0;34m\u001b[0m\u001b[0m\n",
       "\u001b[0;31mDocstring:\u001b[0m\n",
       "Returns an amino acid sequence translated for an input DNA \n",
       "sequence.\n",
       "\n",
       "Parameters\n",
       "==========\n",
       "seq : str\n",
       "    The DNA sequence to be translated.\n",
       "genCode : int\n",
       "    The genetic code to be used. The standard genetic code is 1, variant \n",
       "    codes follow the numbering system used at \n",
       "    www.ncbi.nlm.nih.gov/Taxonomy/taxonomyhome.html/index.cgi?chapter=cgencodes.\n",
       "\n",
       "Returns\n",
       "str\n",
       "    The amino acid sequence translated from seq.\n",
       "\u001b[0;31mFile:\u001b[0m      ~/lintYR/Dash tests/src/utils.py\n",
       "\u001b[0;31mType:\u001b[0m      function"
      ]
     },
     "metadata": {},
     "output_type": "display_data"
    }
   ],
   "source": [
    "?translate"
   ]
  },
  {
   "cell_type": "code",
   "execution_count": null,
   "id": "8e15048b-a41a-4cf5-ac7a-4d28ea8409a1",
   "metadata": {},
   "outputs": [],
   "source": []
  }
 ],
 "metadata": {
  "kernelspec": {
   "display_name": "Python 3 (ipykernel)",
   "language": "python",
   "name": "python3"
  },
  "language_info": {
   "codemirror_mode": {
    "name": "ipython",
    "version": 3
   },
   "file_extension": ".py",
   "mimetype": "text/x-python",
   "name": "python",
   "nbconvert_exporter": "python",
   "pygments_lexer": "ipython3",
   "version": "3.11.7"
  }
 },
 "nbformat": 4,
 "nbformat_minor": 5
}
